{
 "cells": [
  {
   "cell_type": "code",
   "execution_count": 2,
   "metadata": {},
   "outputs": [
    {
     "name": "stdout",
     "output_type": "stream",
     "text": [
      "tensor([[0.2130, 0.8891, 0.9812],\n",
      "        [0.1919, 0.9114, 0.7954],\n",
      "        [0.8352, 0.6434, 0.0242],\n",
      "        [0.8044, 0.6477, 0.6275],\n",
      "        [0.0602, 0.6945, 0.5903]])\n"
     ]
    }
   ],
   "source": [
    "import math\n",
    "import torch\n",
    "import matplotlib\n",
    "import numpy\n",
    "\n",
    "class Neuron():\n",
    "    def __init__(self, data):\n",
    "        self.data = data"
   ]
  }
 ],
 "metadata": {
  "kernelspec": {
   "display_name": "Python 3",
   "language": "python",
   "name": "python3"
  },
  "language_info": {
   "codemirror_mode": {
    "name": "ipython",
    "version": 3
   },
   "file_extension": ".py",
   "mimetype": "text/x-python",
   "name": "python",
   "nbconvert_exporter": "python",
   "pygments_lexer": "ipython3",
   "version": "3.10.10"
  }
 },
 "nbformat": 4,
 "nbformat_minor": 2
}
