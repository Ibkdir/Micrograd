{
 "cells": [
  {
   "cell_type": "code",
   "execution_count": null,
   "id": "39f52225-44bc-4ad5-9a92-176fe1dd3b34",
   "metadata": {},
   "outputs": [],
   "source": [
    "import numpy as np\n",
    "import torch as t\n",
    "import matplotlib as mplt"
   ]
  },
  {
   "cell_type": "code",
   "execution_count": null,
   "id": "753433c2-6d5a-4e54-bb10-0667ca01e6e7",
   "metadata": {},
   "outputs": [],
   "source": []
  }
 ],
 "metadata": {
  "kernelspec": {
   "display_name": "Python 3 (ipykernel)",
   "language": "python",
   "name": "python3"
  },
  "language_info": {
   "codemirror_mode": {
    "name": "ipython",
    "version": 3
   },
   "file_extension": ".py",
   "mimetype": "text/x-python",
   "name": "python",
   "nbconvert_exporter": "python",
   "pygments_lexer": "ipython3",
   "version": "3.11.5"
  }
 },
 "nbformat": 4,
 "nbformat_minor": 5
}
