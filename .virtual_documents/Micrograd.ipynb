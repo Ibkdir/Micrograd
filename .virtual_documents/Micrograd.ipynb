import numpy as np
import torch as t
import matplotlib as mplt



