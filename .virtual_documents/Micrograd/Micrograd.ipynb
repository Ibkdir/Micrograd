import matplotlib as plt


def f(x):
    return 3*x**2 - 4*x + 5


xs = np.arrange(-5, 5, 0.25)






